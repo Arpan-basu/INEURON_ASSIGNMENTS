{
 "cells": [
  {
   "cell_type": "code",
   "execution_count": null,
   "id": "7c2af7c6",
   "metadata": {},
   "outputs": [],
   "source": [
    "1. Write a Python program to print \"Hello Python\"?\n",
    "\n",
    "print('Hello python')"
   ]
  },
  {
   "cell_type": "code",
   "execution_count": null,
   "id": "2414bf2b",
   "metadata": {},
   "outputs": [],
   "source": [
    "2. Write a Python program to do arithmetical operations addition and division.?\n",
    "\n",
    "num1 = int(input('Enter a number'))\n",
    "num2 = int(input('Enter the other number'))\n",
    "sum = num1 + num2\n",
    "div = num1 / num2\n",
    "print(sum)\n",
    "print(div)"
   ]
  },
  {
   "cell_type": "code",
   "execution_count": null,
   "id": "0656e17d",
   "metadata": {},
   "outputs": [],
   "source": [
    "3. Write a Python program to find the area of a triangle?\n",
    "\n",
    "Base   = int(input(\"Enter the base of the triangle\"))\n",
    "Height = int(input(\"Enter the height of the triangle\"))\n",
    "Area = 1/2*Base*Height\n",
    "print(Area)"
   ]
  },
  {
   "cell_type": "code",
   "execution_count": null,
   "id": "cc6dc803",
   "metadata": {},
   "outputs": [],
   "source": [
    "4. Write a Python program to swap two variables?\n",
    "\n",
    "num1 = int(input(\"Enter a number\"))\n",
    "num2 = int(input(\"Enter a number\"))\n",
    "temp = num1\n",
    "num1 = num2\n",
    "num2 = temp\n",
    "print(\"After swap\")\n",
    "print(num1)\n",
    "print(num2)"
   ]
  },
  {
   "cell_type": "code",
   "execution_count": null,
   "id": "eefa509d",
   "metadata": {},
   "outputs": [],
   "source": [
    "5. Write a Python program to generate a random number?\n",
    "\n",
    "import random\n",
    "n = random.random()\n",
    "print(n)"
   ]
  }
 ],
 "metadata": {
  "kernelspec": {
   "display_name": "Python 3 (ipykernel)",
   "language": "python",
   "name": "python3"
  },
  "language_info": {
   "codemirror_mode": {
    "name": "ipython",
    "version": 3
   },
   "file_extension": ".py",
   "mimetype": "text/x-python",
   "name": "python",
   "nbconvert_exporter": "python",
   "pygments_lexer": "ipython3",
   "version": "3.9.7"
  }
 },
 "nbformat": 4,
 "nbformat_minor": 5
}
