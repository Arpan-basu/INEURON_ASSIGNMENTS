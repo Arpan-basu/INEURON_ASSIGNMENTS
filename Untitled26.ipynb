{
 "cells": [
  {
   "cell_type": "code",
   "execution_count": null,
   "id": "388ed409",
   "metadata": {},
   "outputs": [],
   "source": [
    "1. Write a Python program to convert kilometers to miles?\n",
    "\n",
    "kilo= float(input(\"Enter the value in kilometers\"))\n",
    "miles= 0.621371*kilo\n",
    "print(\"Enterd value in miles is:- \",miles)"
   ]
  },
  {
   "cell_type": "code",
   "execution_count": null,
   "id": "304d3273",
   "metadata": {},
   "outputs": [],
   "source": [
    "2. Write a Python program to convert Celsius to Fahrenheit?\n",
    "\n",
    "celsius=float(input(\"Enter a temperature in celsius:- \"))\n",
    "ferenhite=((celcius*9)/5)+32\n",
    "print(ferenhite)"
   ]
  },
  {
   "cell_type": "code",
   "execution_count": null,
   "id": "3c98d154",
   "metadata": {},
   "outputs": [],
   "source": [
    "3. Write a Python program to display calendar?\n",
    "\n",
    "import calendar\n",
    "dd = int(input(\"Enter day: \"))\n",
    "mm = int(input(\"Enter month: \"))\n",
    "yy = int(input(\"Enter year: \"))\n",
    "print(calendar.month(yy,mm,dd))"
   ]
  },
  {
   "cell_type": "code",
   "execution_count": null,
   "id": "e8899040",
   "metadata": {},
   "outputs": [],
   "source": [
    "4. Write a Python program to solve quadratic equation?\n",
    "\n",
    "import math\n",
    "a=int(input(\"Enter the value of 'a':- \"))\n",
    "b=int(input(\"Enter the value of 'b':- \"))\n",
    "c=int(input(\"Enter the value of 'c':- \"))\n",
    "\n",
    "x1=(-b)+(math.sqrt(((b*b)-4*a*c)/(2*a)))\n",
    "x2=(-b)-(math.sqrt(((b*b)-4*a*c)/(2*a)))\n",
    "\n",
    "print(x1,x2)"
   ]
  },
  {
   "cell_type": "code",
   "execution_count": null,
   "id": "4985fa44",
   "metadata": {},
   "outputs": [],
   "source": [
    "5. Write a Python program to swap two variables without temp variable?\n",
    "\n",
    "num1=int(input(\"Enter the first number:- \"))\n",
    "num2=int(input(\"Enter the first number:- \"))\n",
    "num1=num1+num2\n",
    "num2=num1-num2\n",
    "num1=num1-num2\n",
    "print(\"num1= \",num1,\"num2=\",num2)"
   ]
  }
 ],
 "metadata": {
  "kernelspec": {
   "display_name": "Python 3 (ipykernel)",
   "language": "python",
   "name": "python3"
  },
  "language_info": {
   "codemirror_mode": {
    "name": "ipython",
    "version": 3
   },
   "file_extension": ".py",
   "mimetype": "text/x-python",
   "name": "python",
   "nbconvert_exporter": "python",
   "pygments_lexer": "ipython3",
   "version": "3.9.7"
  }
 },
 "nbformat": 4,
 "nbformat_minor": 5
}
