{
 "cells": [
  {
   "cell_type": "code",
   "execution_count": null,
   "id": "2df472f4",
   "metadata": {},
   "outputs": [],
   "source": [
    "1. What are escape characters, and how do you use them?\n",
    "\n",
    "-> Escape characters represent characters in string values that would otherwise be difficult or impossible to type into code\n",
    "   The escape characters are :-\n",
    "        \\'\tSingle Quote\t\n",
    "        \\\\\tBackslash\t\n",
    "        \\n\tNew Line\t\n",
    "        \\r\tCarriage Return\t\n",
    "        \\t\tTab\t\n",
    "        \\b\tBackspace\t\n",
    "        \\f\tForm Feed\t\n",
    "        \\ooo\tOctal value\n",
    "        \\xhh\tHex value"
   ]
  },
  {
   "cell_type": "code",
   "execution_count": null,
   "id": "3f4aac8e",
   "metadata": {},
   "outputs": [],
   "source": [
    "2. What do the escape characters n and t stand for?\n",
    "\n",
    "-> The escape charaters n i.e.; \\n stands for new line and The escape charaters t i.e.; \\t stands for tab "
   ]
  },
  {
   "cell_type": "code",
   "execution_count": null,
   "id": "ee116cf4",
   "metadata": {},
   "outputs": [],
   "source": [
    "3. What is the way to include backslash characters in a string?\n",
    "\n",
    "-> '\\b'"
   ]
  },
  {
   "cell_type": "code",
   "execution_count": null,
   "id": "deb199de",
   "metadata": {},
   "outputs": [],
   "source": [
    "4. The string \"Howl's Moving Castle\" is a correct value. Why isn't the single quote character in the\n",
    "   word Howl's not escaped a problem?\n",
    "    \n",
    "->  The single quote in Howl's is fine because you've used double quotes to mark the beginning and end of the string"
   ]
  },
  {
   "cell_type": "code",
   "execution_count": null,
   "id": "2557eeca",
   "metadata": {},
   "outputs": [],
   "source": [
    "5. How do you write a string of newlines if you don't want to use the n character?\n",
    "\n",
    "->  end = <character>, which <character> is the character that will be used to separate the lines."
   ]
  },
  {
   "cell_type": "code",
   "execution_count": null,
   "id": "81b0e06e",
   "metadata": {},
   "outputs": [],
   "source": [
    "6. What are the values of the given expressions?\n",
    "  'Hello, world!'[1]\n",
    "  'Hello, world!'[0:5]\n",
    "  'Hello, world!'[:5]\n",
    "  'Hello, world!'[3:]\n",
    "\n",
    "->  'e'\n",
    "    'Hello'\n",
    "    'Hello'\n",
    "    'lo world!"
   ]
  },
  {
   "cell_type": "code",
   "execution_count": null,
   "id": "7dfd88c5",
   "metadata": {},
   "outputs": [],
   "source": [
    "7. What are the values of the following expressions?\n",
    "   'Hello'.upper()\n",
    "   'Hello'.upper().isupper()\n",
    "   'Hello'.upper().lower()\n",
    "    \n",
    "-> 'HELLO'\n",
    "    True\n",
    "   'hello'"
   ]
  },
  {
   "cell_type": "code",
   "execution_count": null,
   "id": "b13d45f5",
   "metadata": {},
   "outputs": [],
   "source": [
    "8. What are the values of the following expressions?\n",
    "    'Remember, remember, the fifth of July.'.split()\n",
    "    '-'.join('There can only one.'.split())\n",
    "    \n",
    "-> ['Remember,', 'remember,', 'the', 'fifth', 'of', 'November.']\n",
    "   'There-can-be-only-one."
   ]
  },
  {
   "cell_type": "code",
   "execution_count": null,
   "id": "662bd002",
   "metadata": {},
   "outputs": [],
   "source": [
    "9. What are the methods for right-justifying, left-justifying, and centering a string?\n",
    "\n",
    "-> rjust(), ljust(), and center()"
   ]
  },
  {
   "cell_type": "code",
   "execution_count": null,
   "id": "c811b0c4",
   "metadata": {},
   "outputs": [],
   "source": [
    "10. What is the best way to remove whitespace characters from the start or end?\n",
    "\n",
    " -> lstrip() \n",
    "    rstrip()"
   ]
  }
 ],
 "metadata": {
  "kernelspec": {
   "display_name": "Python 3 (ipykernel)",
   "language": "python",
   "name": "python3"
  },
  "language_info": {
   "codemirror_mode": {
    "name": "ipython",
    "version": 3
   },
   "file_extension": ".py",
   "mimetype": "text/x-python",
   "name": "python",
   "nbconvert_exporter": "python",
   "pygments_lexer": "ipython3",
   "version": "3.9.7"
  }
 },
 "nbformat": 4,
 "nbformat_minor": 5
}
