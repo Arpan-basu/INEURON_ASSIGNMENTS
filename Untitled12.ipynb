{
 "cells": [
  {
   "cell_type": "code",
   "execution_count": null,
   "id": "a8eb6091",
   "metadata": {},
   "outputs": [],
   "source": [
    "1. What exactly is []?\n",
    "\n",
    "-> Empty list"
   ]
  },
  {
   "cell_type": "code",
   "execution_count": null,
   "id": "ca3ed292",
   "metadata": {},
   "outputs": [],
   "source": [
    "2. In a list of values stored in a variable called spam, how would you assign the value 'hello'; as the\n",
    "third value? (Assume [2, 4, 6, 8, 10] are in spam.)\n",
    "Let's pretend the spam includes the list ['a','b','c','d'] for the next three queries.\n",
    "\n",
    "-> spam[2] = 'hello' (Notice that the third value in a list is at index 2 because the first index is 0.)"
   ]
  },
  {
   "cell_type": "code",
   "execution_count": null,
   "id": "ac181373",
   "metadata": {},
   "outputs": [],
   "source": [
    "3. What is the value of spam[int(int('3' * 2) / 11)]?\n",
    "\n",
    "-> 'd'"
   ]
  },
  {
   "cell_type": "code",
   "execution_count": null,
   "id": "044d2d26",
   "metadata": {},
   "outputs": [],
   "source": [
    "4. What is the value of spam[-1]?\n",
    "\n",
    "-> 'd'"
   ]
  },
  {
   "cell_type": "code",
   "execution_count": null,
   "id": "b8304e54",
   "metadata": {},
   "outputs": [],
   "source": [
    "5. What is the value of spam[:2]?\n",
    "Let's pretend bacon has the list [3.14,'cat,'11,'cat,'True] for the next three questions.\n",
    "\n",
    "-> ['a', 'b']"
   ]
  },
  {
   "cell_type": "code",
   "execution_count": null,
   "id": "ed0c334d",
   "metadata": {},
   "outputs": [],
   "source": [
    "6. What is the value of bacon.index('cat')?\n",
    "\n",
    "-> 1"
   ]
  },
  {
   "cell_type": "code",
   "execution_count": null,
   "id": "350972fd",
   "metadata": {},
   "outputs": [],
   "source": [
    "7. How does bacon.append(99) change the look of the list value in bacon?\n",
    "\n",
    "-> [3.14, 'cat', 11, 'cat', True]"
   ]
  },
  {
   "cell_type": "code",
   "execution_count": null,
   "id": "cb662b73",
   "metadata": {},
   "outputs": [],
   "source": [
    "8. How does bacon.remove('cat') change the look of the list in bacon?\n",
    "\n",
    "-> [3.14, 11, 'cat', True]"
   ]
  },
  {
   "cell_type": "code",
   "execution_count": null,
   "id": "fe7e064f",
   "metadata": {},
   "outputs": [],
   "source": [
    "9. What are the list concatenation and list replication operators?\n",
    "\n",
    "-> The operator for list concatenation is +\n",
    "   The operator for replication is *"
   ]
  },
  {
   "cell_type": "code",
   "execution_count": null,
   "id": "dbcce9eb",
   "metadata": {},
   "outputs": [],
   "source": [
    "10. What is difference between the list methods append() and insert()?\n",
    "\n",
    "-> Difference between the list methods append() and insert()is that append() will add values only to the end of a list whereas insert() can add them anywhere in the list."
   ]
  },
  {
   "cell_type": "code",
   "execution_count": null,
   "id": "721579a8",
   "metadata": {},
   "outputs": [],
   "source": [
    "11. What are the two methods for removing items from a list?\n",
    "\n",
    " -> The two methods for removing items from a list are :\n",
    "        . del statment ;\n",
    "        . remove() ;"
   ]
  },
  {
   "cell_type": "code",
   "execution_count": null,
   "id": "90ea5350",
   "metadata": {},
   "outputs": [],
   "source": [
    "12. Describe how list values and string values are identical.\n",
    "\n",
    " -> Both lists and strings can be passed to len(), have indexes and slices, be used in for loops, be concatenated or replicated, and be used with the in and not in operators."
   ]
  },
  {
   "cell_type": "code",
   "execution_count": null,
   "id": "db264280",
   "metadata": {},
   "outputs": [],
   "source": [
    "13. What's the difference between tuples and lists?\n",
    "\n",
    " -> The difference between tuples and lists are :\n",
    "    tuple :-\n",
    "        . Tuples are immutable; they cannot be changed at all ;\n",
    "        . Tuples are written using parentheses () \n",
    "    list :-\n",
    "        . Lists are mutable; they can have values added ;\n",
    "        . lists use the square brackets []"
   ]
  },
  {
   "cell_type": "code",
   "execution_count": null,
   "id": "ea3e452a",
   "metadata": {},
   "outputs": [],
   "source": [
    "14. How do you type a tuple value that only contains the integer 42?\n",
    "\n",
    " -> (42,)"
   ]
  },
  {
   "cell_type": "code",
   "execution_count": null,
   "id": "857edad4",
   "metadata": {},
   "outputs": [],
   "source": [
    "15. How do you get a list value's tuple form? How do you get a tuple value's list form?\n",
    "\n",
    " -> list()\n",
    "    tuple()"
   ]
  },
  {
   "cell_type": "code",
   "execution_count": null,
   "id": "d0608769",
   "metadata": {},
   "outputs": [],
   "source": [
    "16. Variables that &quot;contain&quot; list values are not necessarily lists themselves. Instead, what do they\n",
    "contain?\n",
    "\n",
    " -> list value"
   ]
  },
  {
   "cell_type": "code",
   "execution_count": null,
   "id": "19cf32e6",
   "metadata": {},
   "outputs": [],
   "source": [
    "17. How do you distinguish between copy.copy() and copy.deepcopy()?\n",
    "\n",
    " -> The difference between copy.copy() and copy.deepcopy() are :\n",
    "    copy.copy() :-\n",
    "        The copy.copy() function will do a shallow copy of a list\n",
    "    copy.deepcopy() :-\n",
    "        the copy.deepcopy() function will do a deep copy of a list. That is, only copy.deepcopy() will duplicate any lists inside the list."
   ]
  }
 ],
 "metadata": {
  "kernelspec": {
   "display_name": "Python 3 (ipykernel)",
   "language": "python",
   "name": "python3"
  },
  "language_info": {
   "codemirror_mode": {
    "name": "ipython",
    "version": 3
   },
   "file_extension": ".py",
   "mimetype": "text/x-python",
   "name": "python",
   "nbconvert_exporter": "python",
   "pygments_lexer": "ipython3",
   "version": "3.9.7"
  }
 },
 "nbformat": 4,
 "nbformat_minor": 5
}
