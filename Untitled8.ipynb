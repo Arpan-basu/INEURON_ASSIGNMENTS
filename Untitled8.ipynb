{
 "cells": [
  {
   "cell_type": "code",
   "execution_count": null,
   "id": "114aacc2",
   "metadata": {},
   "outputs": [],
   "source": [
    "1. In the below elements which of them are values or an expression? eg:- values can be\n",
    "integer or string and expressions will be mathematical operators.\n",
    "\n",
    "*         -> Values\n",
    "'hello'   -> Values\n",
    "-87.8     -> Values\n",
    "-         -> Expressions\n",
    "/         -> Expressions\n",
    "+         -> Expressions\n",
    "6         -> Values"
   ]
  },
  {
   "cell_type": "code",
   "execution_count": null,
   "id": "b9e6f42e",
   "metadata": {},
   "outputs": [],
   "source": [
    "2. What is the difference between string and variable?\n",
    "\n",
    "-> The difference between string and variable are listed below :\n",
    "    STRING :-\n",
    "        . String is a type of information stored in variable within double invited commas \"\" ;\n",
    "        . String is used to represent type of text data;\n",
    "        Example : \n",
    "            String Name = \"Arpan\";\n",
    "    VARIABLE :-\n",
    "        . Variable stores the information(Temporary Locations);\n",
    "        . Variable is used to represent the data;\n",
    "        Example :\n",
    "            int a = 5;"
   ]
  },
  {
   "cell_type": "code",
   "execution_count": null,
   "id": "b2bab7a5",
   "metadata": {},
   "outputs": [],
   "source": [
    "3. Describe three different data types.\n",
    "\n",
    "-> Three different data types are listed below :\n",
    "    . Integer :\n",
    "        Integer data types is used to store whole numbers \n",
    "        Examples :\n",
    "            int a = 5;\n",
    "            \n",
    "    . Floats :\n",
    "        Float data types is used to store decimal Numbers\n",
    "        Examples :\n",
    "            float a = 3.8;\n",
    "            \n",
    "    . Lists :\n",
    "        List data type helps to store collection of datas an is enclosed within [ ]\n",
    "        Examples :\n",
    "            my_list = [1,2,3,4,5]"
   ]
  },
  {
   "cell_type": "code",
   "execution_count": null,
   "id": "d1a1e593",
   "metadata": {},
   "outputs": [],
   "source": [
    "4. What is an expression made up of? What do all expressions do?\n",
    "\n",
    "-> An expression is a construct made up of variables, operators, and method invocations, which are constructed according to the syntax of the language, that evaluates to a single value.\n",
    "    Expressions are representations of value"
   ]
  },
  {
   "cell_type": "code",
   "execution_count": null,
   "id": "6b06bbfe",
   "metadata": {},
   "outputs": [],
   "source": [
    "5. This assignment statements, like spam = 10. What is the difference between an\n",
    "expression and a statement?\n",
    "\n",
    "-> Expression is made up of values, containers, and mathematical operators whereas  the statement is just like a command that a python interpreter executes like print"
   ]
  },
  {
   "cell_type": "code",
   "execution_count": null,
   "id": "d0016409",
   "metadata": {},
   "outputs": [],
   "source": [
    "6. After running the following code, what does the variable bacon contain?\n",
    "bacon = 22\n",
    "bacon + 1\n",
    "\n",
    "-> No change will occour in output\n",
    "    As The bacon variable is set to 22. The bacon + 1 expression does not reassign the value in bacon (that would need an assignment statement: bacon = bacon + 1)"
   ]
  },
  {
   "cell_type": "code",
   "execution_count": null,
   "id": "0909616e",
   "metadata": {},
   "outputs": [],
   "source": [
    "7. What should the values of the following two terms be?\n",
    "'spam' + 'spamspam'\n",
    "'spam' * 3\n",
    "\n",
    "-> Both expressions \n",
    "   ('spam' + 'spamspam'\n",
    "   'spam' * 3)   evaluate to the string 'spamspamspam'"
   ]
  },
  {
   "cell_type": "code",
   "execution_count": null,
   "id": "b79532cb",
   "metadata": {},
   "outputs": [],
   "source": [
    "8. Why is eggs a valid variable name while 100 is invalid?\n",
    "\n",
    "-> Variable name cannot begin with a number hence eggs a valid variable name while 100 is invalid"
   ]
  },
  {
   "cell_type": "code",
   "execution_count": null,
   "id": "a47bd371",
   "metadata": {},
   "outputs": [],
   "source": [
    "9. What three functions can be used to get the integer, floating-point number, or string\n",
    "version of a value?\n",
    "\n",
    "-> Three functions can be used to get the integer, floating-point number, or string\n",
    "version of a value are the follows :\n",
    "    . For integer               -> int()\n",
    "    . For floating-point number -> float()\n",
    "    . For string                -> str()"
   ]
  },
  {
   "cell_type": "code",
   "execution_count": null,
   "id": "69dd0d89",
   "metadata": {},
   "outputs": [],
   "source": [
    "10. Why does this expression cause an error? How can you fix it?\n",
    "'I have eaten' + 99 + 'burritos.'\n",
    "\n",
    "-> The expression causes an error because only strings can be concatenated to other strings with the + operator and 99 is an integer. \n",
    "   The correct way is :\n",
    "        I have 'eaten' + str(99) + ' burritos.'."
   ]
  }
 ],
 "metadata": {
  "kernelspec": {
   "display_name": "Python 3 (ipykernel)",
   "language": "python",
   "name": "python3"
  },
  "language_info": {
   "codemirror_mode": {
    "name": "ipython",
    "version": 3
   },
   "file_extension": ".py",
   "mimetype": "text/x-python",
   "name": "python",
   "nbconvert_exporter": "python",
   "pygments_lexer": "ipython3",
   "version": "3.9.7"
  }
 },
 "nbformat": 4,
 "nbformat_minor": 5
}
