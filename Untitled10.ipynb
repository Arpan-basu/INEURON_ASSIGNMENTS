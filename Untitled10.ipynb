{
 "cells": [
  {
   "cell_type": "code",
   "execution_count": null,
   "id": "7f77aeda",
   "metadata": {},
   "outputs": [],
   "source": [
    "1. Why are functions advantageous to have in your programs?\n",
    "\n",
    "-> Functions hel[ps us to reduce the duplicate codes that makes the progrsam shorter , easy and programmier friendly."
   ]
  },
  {
   "cell_type": "code",
   "execution_count": null,
   "id": "0ff84b51",
   "metadata": {},
   "outputs": [],
   "source": [
    "2. When does the code in a function run: when it's specified or when it's called?\n",
    "    \n",
    "-> The code in a functio run when the function is called and not when the function is specified. "
   ]
  },
  {
   "cell_type": "code",
   "execution_count": null,
   "id": "9c3003e8",
   "metadata": {},
   "outputs": [],
   "source": [
    "3. What statement creates a function?\n",
    "\n",
    "-> The def statement defines a function."
   ]
  },
  {
   "cell_type": "code",
   "execution_count": null,
   "id": "631f0916",
   "metadata": {},
   "outputs": [],
   "source": [
    "4. What is the difference between a function and a function call?\n",
    "\n",
    "-> The difference between a function and a functio call are :\n",
    "    FUNCTION :\n",
    "        . A function consists of the def statement and the code in its def clause.\n",
    "    FUNCTION CALL :\n",
    "        .  A function call is what moves the program execution into the function, and the function call evaluates to the function's return value."
   ]
  },
  {
   "cell_type": "code",
   "execution_count": null,
   "id": "18505544",
   "metadata": {},
   "outputs": [],
   "source": [
    "5. How many global scopes are there in a Python program? How many local scopes?\n",
    "\n",
    "-> ONE gLOBAL AND ONE lOCAL SCOPES ARE CREATED."
   ]
  },
  {
   "cell_type": "code",
   "execution_count": null,
   "id": "d1461925",
   "metadata": {},
   "outputs": [],
   "source": [
    "6. What happens to variables in a local scope when the function call returns?\n",
    "\n",
    "-> The Local Variables is destroyed."
   ]
  },
  {
   "cell_type": "code",
   "execution_count": null,
   "id": "c6af909d",
   "metadata": {},
   "outputs": [],
   "source": [
    "7. What is the concept of a return value? Is it possible to have a return value in an expression?\n",
    "\n",
    "-> A return value is the value that a function call evaluates to.\n",
    "   Yes, it is possible to havea return value in an expression."
   ]
  },
  {
   "cell_type": "code",
   "execution_count": null,
   "id": "0421c741",
   "metadata": {},
   "outputs": [],
   "source": [
    "8. If a function does not have a return statement, what is the return value of a call to that function?\n",
    "\n",
    "-> None"
   ]
  },
  {
   "cell_type": "code",
   "execution_count": null,
   "id": "1bc0dc82",
   "metadata": {},
   "outputs": [],
   "source": [
    "9. How do you make a function variable refer to the global variable?\n",
    "\n",
    "-> A global statement will force a variable in a function to refer to the global variable."
   ]
  },
  {
   "cell_type": "code",
   "execution_count": null,
   "id": "e32c91bf",
   "metadata": {},
   "outputs": [],
   "source": [
    "10. What is the data type of None?\n",
    "\n",
    " -> NoneType"
   ]
  },
  {
   "cell_type": "code",
   "execution_count": null,
   "id": "234485c4",
   "metadata": {},
   "outputs": [],
   "source": [
    "11. What does the sentence import areallyourpetsnamederic do?\n",
    "\n",
    " -> The sentence import areallyourpetsnamederic helps to imports a module named areallyourpetsnamederic."
   ]
  },
  {
   "cell_type": "code",
   "execution_count": null,
   "id": "ae73df7b",
   "metadata": {},
   "outputs": [],
   "source": [
    "12. If you had a bacon() feature in a spam module, what would you call it after importing spam?\n",
    "\n",
    " -> spam. bacon()"
   ]
  },
  {
   "cell_type": "code",
   "execution_count": null,
   "id": "aa79035b",
   "metadata": {},
   "outputs": [],
   "source": [
    "13. What can you do to save a programme from crashing if it encounters an error?\n",
    "\n",
    " -> When a programme encounters an error, the control is passed to the except block, skipping the code in between. Try running the program and it should throw an error message instead of crashing the program"
   ]
  },
  {
   "cell_type": "code",
   "execution_count": null,
   "id": "ac8437ce",
   "metadata": {},
   "outputs": [],
   "source": [
    "14. What is the purpose of the try clause? What is the purpose of the except clause?\n",
    "\n",
    " -> The try block lets you test a block of code for errors. \n",
    "    The except block lets you handle the error."
   ]
  }
 ],
 "metadata": {
  "kernelspec": {
   "display_name": "Python 3 (ipykernel)",
   "language": "python",
   "name": "python3"
  },
  "language_info": {
   "codemirror_mode": {
    "name": "ipython",
    "version": 3
   },
   "file_extension": ".py",
   "mimetype": "text/x-python",
   "name": "python",
   "nbconvert_exporter": "python",
   "pygments_lexer": "ipython3",
   "version": "3.9.7"
  }
 },
 "nbformat": 4,
 "nbformat_minor": 5
}
