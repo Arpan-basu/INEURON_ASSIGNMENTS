{
 "cells": [
  {
   "cell_type": "code",
   "execution_count": null,
   "id": "ff7943f7",
   "metadata": {},
   "outputs": [],
   "source": [
    "1. In what modes should the PdfFileReader() and PdfFileWriter() File objects will be opened?\n",
    "\n",
    "-> PdfFileReader() needs to be opened in read-binary mode by passing 'rb' as the second argument to open(). Likewise, the File object passed to PyPDF2. PdfFileWriter() needs to be opened in write-binary mode with 'wb'"
   ]
  },
  {
   "cell_type": "code",
   "execution_count": null,
   "id": "32098880",
   "metadata": {},
   "outputs": [],
   "source": []
  },
  {
   "cell_type": "code",
   "execution_count": null,
   "id": "88f11f15",
   "metadata": {},
   "outputs": [],
   "source": [
    "2. From a PdfFileReader object, how do you get a Page object for page 5?\n",
    "\n",
    "-> By calling the getPage() function"
   ]
  },
  {
   "cell_type": "code",
   "execution_count": null,
   "id": "a339f855",
   "metadata": {},
   "outputs": [],
   "source": [
    "3. What PdfFileReader variable stores the number of pages in the PDF document?\n",
    "\n",
    "-> numPages attribute of a PdfFileReader object "
   ]
  },
  {
   "cell_type": "code",
   "execution_count": null,
   "id": "0d537a8e",
   "metadata": {},
   "outputs": [],
   "source": [
    "4. If a PdfFileReader object’s PDF is encrypted with the password swordfish, what must you do\n",
    "before you can obtain Page objects from it?\n",
    "\n",
    "-> Call decrypt('swordfish')"
   ]
  },
  {
   "cell_type": "code",
   "execution_count": null,
   "id": "93f51072",
   "metadata": {},
   "outputs": [],
   "source": [
    "5. What methods do you use to rotate a page?\n",
    "\n",
    "-> Press the \"Ctrl+Shift+L\" keys or \"Ctrl+Shift+R\""
   ]
  },
  {
   "cell_type": "code",
   "execution_count": null,
   "id": "a2c42d21",
   "metadata": {},
   "outputs": [],
   "source": [
    "6. What is the difference between a Run object and a Paragraph object?\n",
    "\n",
    "-> Each Paragraph object also has a runs attribute that is a list of Run objects. Run objects also have a text attribute, containing just the text in that particular run"
   ]
  },
  {
   "cell_type": "code",
   "execution_count": null,
   "id": "10826e1d",
   "metadata": {},
   "outputs": [],
   "source": [
    "7. How do you obtain a list of Paragraph objects for a Document object that’s stored in a variable\n",
    "named doc?\n",
    "\n",
    "-> A document object that has a paragraph attribute"
   ]
  },
  {
   "cell_type": "code",
   "execution_count": null,
   "id": "da7c965a",
   "metadata": {},
   "outputs": [],
   "source": [
    "8. What type of object has bold, underline, italic, strike, and outline variables?\n",
    "\n",
    "-> write()"
   ]
  },
  {
   "cell_type": "code",
   "execution_count": null,
   "id": "26369b2d",
   "metadata": {},
   "outputs": [],
   "source": [
    "9. What is the difference between False, True, and None for the bold variable?\n",
    "\n",
    "-> True / False are used where the feild accepts boolean value and None is used where the feild accepts an optional list "
   ]
  },
  {
   "cell_type": "code",
   "execution_count": null,
   "id": "503918ef",
   "metadata": {},
   "outputs": [],
   "source": [
    "10. How do you create a Document object for a new Word document?\n",
    "\n",
    "->  Steps to create a Document object for a new Word document are :-\n",
    "    . Click or tap where you want to insert the content of the existing document.\n",
    "    . Go to Insert and select the arrow next to Object .\n",
    "    . Select Text from File.\n",
    "    . Locate the file that you want and then double-click it."
   ]
  },
  {
   "cell_type": "code",
   "execution_count": null,
   "id": "7b1c5bd8",
   "metadata": {},
   "outputs": [],
   "source": [
    "11. How do you add a paragraph with the text 'Hello, there' to a Document object stored in a\n",
    "    variable named doc?\n",
    "    \n",
    " -> "
   ]
  },
  {
   "cell_type": "code",
   "execution_count": null,
   "id": "58aef601",
   "metadata": {},
   "outputs": [],
   "source": [
    "12. What integers represent the levels of headings available in Word documents?"
   ]
  },
  {
   "cell_type": "code",
   "execution_count": null,
   "id": "8f96c01b",
   "metadata": {},
   "outputs": [],
   "source": []
  }
 ],
 "metadata": {
  "kernelspec": {
   "display_name": "Python 3 (ipykernel)",
   "language": "python",
   "name": "python3"
  },
  "language_info": {
   "codemirror_mode": {
    "name": "ipython",
    "version": 3
   },
   "file_extension": ".py",
   "mimetype": "text/x-python",
   "name": "python",
   "nbconvert_exporter": "python",
   "pygments_lexer": "ipython3",
   "version": "3.9.7"
  }
 },
 "nbformat": 4,
 "nbformat_minor": 5
}
