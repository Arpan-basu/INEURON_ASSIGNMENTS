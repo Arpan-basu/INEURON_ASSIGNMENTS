{
 "cells": [
  {
   "cell_type": "code",
   "execution_count": null,
   "id": "500c456f",
   "metadata": {},
   "outputs": [],
   "source": [
    "1. Write a Python Program to Check if a Number is Positive, Negative or Zero?\n",
    "\n",
    "num = int(input(\"Enter a number\")) \n",
    "if num > 0 :\n",
    "    print(\"Positive Number\")\n",
    "elif num < 0 :\n",
    "    print(\"Negative Number\")\n",
    "else :\n",
    "    print(\"Zero Number\")"
   ]
  },
  {
   "cell_type": "code",
   "execution_count": null,
   "id": "a492f066",
   "metadata": {},
   "outputs": [],
   "source": [
    "2. Write a Python Program to Check if a Number is Odd or Even?\n",
    "\n",
    "num = int(input(\"Enter a nummber\")) \n",
    "if num % 2 == 0 :\n",
    "    print(\"Even Number\") \n",
    "else :\n",
    "    print(\"Odd Number\")"
   ]
  },
  {
   "cell_type": "code",
   "execution_count": null,
   "id": "66a6e689",
   "metadata": {},
   "outputs": [],
   "source": [
    "3. Write a Python Program to Check Leap Year?\n",
    "\n",
    "year = int(input(\"Enter a year\")) \n",
    "if year % 4 == 0 :\n",
    "    print(\"Leap Year\")\n",
    "else :\n",
    "    print(\"Not a leap year\")"
   ]
  },
  {
   "cell_type": "code",
   "execution_count": null,
   "id": "eb84abf8",
   "metadata": {},
   "outputs": [],
   "source": [
    "4. Write a Python Program to Check Prime Number?\n",
    "\n",
    "num = int(input(\"Enter a number\"))\n",
    "flag = False\n",
    "if num > 1:\n",
    "    for i in range(2, num):\n",
    "        if (num % i) == 0:\n",
    "            flag = True\n",
    "            break\n",
    "if flag:\n",
    "    print(num, \"is not a prime number\")\n",
    "else:\n",
    "    print(num, \"is a prime number\")\n"
   ]
  },
  {
   "cell_type": "code",
   "execution_count": null,
   "id": "b0a665d6",
   "metadata": {},
   "outputs": [],
   "source": [
    "5. Write a Python Program to Print all Prime Numbers in an Interval of 1-10000\n",
    "\n",
    "for i in range(1000):\n",
    "    if(i>1):\n",
    "        for j in range(2,i):\n",
    "            if(i%j ==0):\n",
    "                break\n",
    "        else:\n",
    "            print(i)"
   ]
  }
 ],
 "metadata": {
  "kernelspec": {
   "display_name": "Python 3 (ipykernel)",
   "language": "python",
   "name": "python3"
  },
  "language_info": {
   "codemirror_mode": {
    "name": "ipython",
    "version": 3
   },
   "file_extension": ".py",
   "mimetype": "text/x-python",
   "name": "python",
   "nbconvert_exporter": "python",
   "pygments_lexer": "ipython3",
   "version": "3.9.7"
  }
 },
 "nbformat": 4,
 "nbformat_minor": 5
}
