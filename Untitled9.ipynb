{
 "cells": [
  {
   "cell_type": "code",
   "execution_count": null,
   "id": "0915f4b7",
   "metadata": {},
   "outputs": [],
   "source": [
    "1.What are the two values of the Boolean data type? How do you write them?\n",
    "\n",
    "-> The two values of Boolean data type are :\n",
    "    . True ;\n",
    "    . False \n",
    "   The ways to write them are :\n",
    "    . True(T capital and rest in lowercase);\n",
    "    . Frue(F capital and rest in lowercase);"
   ]
  },
  {
   "cell_type": "code",
   "execution_count": null,
   "id": "6182db5f",
   "metadata": {},
   "outputs": [],
   "source": [
    "2. What are the three different types of Boolean operators?\n",
    "\n",
    "-> The three different types of Boolean operators are listed below :\n",
    "    . and ;\n",
    "    . or ;\n",
    "    . not"
   ]
  },
  {
   "cell_type": "code",
   "execution_count": null,
   "id": "1193704e",
   "metadata": {},
   "outputs": [],
   "source": [
    "3. Make a list of each Boolean operator's truth tables (i.e. every possible combination of Boolean\n",
    "   values for the operator and what it evaluate ).\n",
    "\n",
    "-> The list of each Boolean Operator's are :\n",
    "    . True and True is True.\n",
    "\n",
    "    . True and False is False.\n",
    "\n",
    "    . False and True is False.\n",
    "\n",
    "    . False and False is False.\n",
    "    \n",
    "    . True or True is True.\n",
    "\n",
    "    . True or False is True.\n",
    "\n",
    "    . False or True is True.\n",
    "\n",
    "    . False or False is False.\n",
    "\n",
    "    . not True is False.\n",
    "\n",
    "    . not False is True"
   ]
  },
  {
   "cell_type": "code",
   "execution_count": null,
   "id": "4fc9cacb",
   "metadata": {},
   "outputs": [],
   "source": [
    "4. What are the values of the following expressions?\n",
    "    (5 > 4) and (3 == 5)                -> False\n",
    "    not (5 > 4)                         -> False\n",
    "    (5 > 4) or (3 == 5)                 -> True\n",
    "    not ((5 > 4) or (3 == 5))           -> False\n",
    "    (True and True) and (True == False) -> False\n",
    "    (not False) or (not True)           -> True"
   ]
  },
  {
   "cell_type": "code",
   "execution_count": null,
   "id": "6e6408c6",
   "metadata": {},
   "outputs": [],
   "source": [
    "5. What are the six comparison operators?\n",
    "\n",
    "-> The six comparison operators are :\n",
    "    . >= –> True if a number is greater than or equal to another.\n",
    "    . <= –> True if a number is less than or equal to another.\n",
    "    . == –> True if two values are equivalent.\n",
    "    . != –> True if two values are not equivalent.\n",
    "    . && –> True if both values are true.\n",
    "    . || –> True if either of the values are true.\n",
    "    .  ! –> True if the value is false.\n",
    "    .  ~ –> Reverses all of the bits in a variable"
   ]
  },
  {
   "cell_type": "code",
   "execution_count": null,
   "id": "d39ce06b",
   "metadata": {},
   "outputs": [],
   "source": [
    "6. How do you tell the difference between the equal to and assignment operators?Describe a\n",
    "condition and when you would use one.\n",
    "\n",
    "-> The equal to operator(==) that compares two values and evaluates to a Boolean value whereas while the assignment operator(=) that stores a value in a variable."
   ]
  },
  {
   "cell_type": "code",
   "execution_count": null,
   "id": "17d2eb5a",
   "metadata": {},
   "outputs": [],
   "source": [
    "7. Identify the three blocks in this code:\n",
    "    spam = 0\n",
    "    if spam == 10:\n",
    "        print('eggs')\n",
    "    if spam &gt; 5:\n",
    "        print('bacon')\n",
    "    else:\n",
    "        print('ham')\n",
    "    print('spam')\n",
    "    print('spam')\n",
    "    \n",
    "-> The three blocks are everything inside the if statement and the lines print('bacon') and print('ham').\n",
    "    print('eggs')\n",
    "    if spam > 5:\n",
    "        print('bacon')\n",
    "    else:\n",
    "        print('ham')\n",
    "    print('spam')"
   ]
  },
  {
   "cell_type": "code",
   "execution_count": null,
   "id": "381b58b6",
   "metadata": {},
   "outputs": [],
   "source": [
    "8. Write code that prints Hello if 1 is stored in spam, prints Howdy if 2 is stored in spam, and prints\n",
    "Greetings! if anything else is stored in spam.\n",
    "\n",
    "-> if spam == 1:\n",
    "        print('Hello')\n",
    "    elif spam == 2:\n",
    "        print('Howdy')\n",
    "    else:\n",
    "        print('Greetings!')"
   ]
  },
  {
   "cell_type": "code",
   "execution_count": null,
   "id": "4707347d",
   "metadata": {},
   "outputs": [],
   "source": [
    "9.If your programme is stuck in an endless loop, what keys you’ll press?\n",
    "\n",
    "-> If programme is stuck in an endless loop then Press CTRL-C"
   ]
  },
  {
   "cell_type": "code",
   "execution_count": null,
   "id": "7c3006f3",
   "metadata": {},
   "outputs": [],
   "source": [
    "10. How can you tell the difference between break and continue?\n",
    "\n",
    "-> The difference between break and continue are listed below :\n",
    "    Break keyword terminates the execution of the current loop and passes the control over the next loop or main body whereas continue keyword skips the current iteration and executes the very next iteration in the loop. "
   ]
  },
  {
   "cell_type": "code",
   "execution_count": null,
   "id": "6f54d5cb",
   "metadata": {},
   "outputs": [],
   "source": [
    "11. In a for loop, what is the difference between range(10), range(0, 10), and range(0, 10, 1)?\n",
    "\n",
    "-> The difference between range(10), range(0, 10), and range(0, 10, 1) are that :\n",
    "    . In case of range(10)       -> range(stop) here the loop executes upto 9\n",
    "    . In case of range(0, 10)    -> range(start, stop) here the loop executes from 0 to 9\n",
    "    . In case of range(0, 10, 1) -> range(start, stop, step) here the loop executes from 0 to 9 in step 1"
   ]
  },
  {
   "cell_type": "code",
   "execution_count": null,
   "id": "1e17be2a",
   "metadata": {},
   "outputs": [],
   "source": [
    "12. Write a short program that prints the numbers 1 to 10 using a for loop. Then write an equivalent\n",
    "program that prints the numbers 1 to 10 using a while loop.\n",
    "\n",
    "-> FOR LOOP :\n",
    "    for i in range(1, 11):\n",
    "        print(i)\n",
    "    \n",
    "    WHILE LOOP :\n",
    "      i = 1\n",
    "    while(i <= 10):\n",
    "        print(i)\n",
    "        i = i + 1  "
   ]
  },
  {
   "cell_type": "code",
   "execution_count": null,
   "id": "dc2008d3",
   "metadata": {},
   "outputs": [],
   "source": [
    "13. If you had a function named bacon() inside a module named spam, how would you call it after\n",
    "    importing spam?\n",
    "    \n",
    "-> spam. bacon()"
   ]
  }
 ],
 "metadata": {
  "kernelspec": {
   "display_name": "Python 3 (ipykernel)",
   "language": "python",
   "name": "python3"
  },
  "language_info": {
   "codemirror_mode": {
    "name": "ipython",
    "version": 3
   },
   "file_extension": ".py",
   "mimetype": "text/x-python",
   "name": "python",
   "nbconvert_exporter": "python",
   "pygments_lexer": "ipython3",
   "version": "3.9.7"
  }
 },
 "nbformat": 4,
 "nbformat_minor": 5
}
