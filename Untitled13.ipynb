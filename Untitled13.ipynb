{
 "cells": [
  {
   "cell_type": "code",
   "execution_count": null,
   "id": "14765349",
   "metadata": {},
   "outputs": [],
   "source": [
    "1. What does an empty dictionary's code look like?\n",
    "\n",
    "-> To create an empty dictionary, the dictionary should be set to {}.\n",
    "    eg:- items= {}"
   ]
  },
  {
   "cell_type": "code",
   "execution_count": null,
   "id": "ef78f87f",
   "metadata": {},
   "outputs": [],
   "source": [
    "2. What is the value of a dictionary value with the key 'foo' and the value 42?\n",
    "\n",
    "-> The values stoed in dictionary are unorders and the value is 8."
   ]
  },
  {
   "cell_type": "code",
   "execution_count": null,
   "id": "a2127828",
   "metadata": {},
   "outputs": [],
   "source": [
    "3. What is the most significant distinction between a dictionary and a list?\n",
    "\n",
    "-> The difference between a dictionary and a list are :\n",
    "    Dictionary :-\n",
    "        A dictionary refers to a hashed structure of various pairs of keys and values.\n",
    "    List :-\n",
    "        A list refers to a collection of various index value pairs."
   ]
  },
  {
   "cell_type": "code",
   "execution_count": null,
   "id": "774eacc0",
   "metadata": {},
   "outputs": [],
   "source": [
    "4. What happens if you try to access spam['foo'] if spam is {'bar': 100}?\n",
    "\n",
    "-> The in operator checks whether a value exists as a key in the dictionary."
   ]
  },
  {
   "cell_type": "code",
   "execution_count": null,
   "id": "e1fb1c91",
   "metadata": {},
   "outputs": [],
   "source": [
    "5. If a dictionary is stored in spam, what is the difference between the expressions 'cat' in spam and\n",
    "   'cat' in spam.keys()?\n",
    "\n",
    "-> No Difference."
   ]
  },
  {
   "cell_type": "code",
   "execution_count": null,
   "id": "e8ab60af",
   "metadata": {},
   "outputs": [],
   "source": [
    "6. If a dictionary is stored in spam, what is the difference between the expressions 'cat' in spam and\n",
    "   'cat' in spam.values()?\n",
    "\n",
    "-> No Difference. "
   ]
  },
  {
   "cell_type": "code",
   "execution_count": null,
   "id": "be691a74",
   "metadata": {},
   "outputs": [],
   "source": [
    "7. What is a shortcut for the following code?\n",
    "   if 'color' not in spam:\n",
    "   spam['color'] = 'black'\n",
    "\n",
    "-> ('color', 'red')"
   ]
  },
  {
   "cell_type": "code",
   "execution_count": null,
   "id": "470ea8f5",
   "metadata": {},
   "outputs": [],
   "source": [
    "8. How do you \"pretty print\" dictionary values using which module and function?\n",
    "\n",
    "-> pprint() "
   ]
  }
 ],
 "metadata": {
  "kernelspec": {
   "display_name": "Python 3 (ipykernel)",
   "language": "python",
   "name": "python3"
  },
  "language_info": {
   "codemirror_mode": {
    "name": "ipython",
    "version": 3
   },
   "file_extension": ".py",
   "mimetype": "text/x-python",
   "name": "python",
   "nbconvert_exporter": "python",
   "pygments_lexer": "ipython3",
   "version": "3.9.7"
  }
 },
 "nbformat": 4,
 "nbformat_minor": 5
}
